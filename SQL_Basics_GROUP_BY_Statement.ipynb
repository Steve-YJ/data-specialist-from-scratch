{
  "nbformat": 4,
  "nbformat_minor": 0,
  "metadata": {
    "colab": {
      "name": "SQL Basics-GROUP BY Statement.ipynb",
      "provenance": [],
      "authorship_tag": "ABX9TyNAPCkTrdBeR4bc2rk0qZhZ",
      "include_colab_link": true
    },
    "kernelspec": {
      "name": "python3",
      "display_name": "Python 3"
    },
    "language_info": {
      "name": "python"
    }
  },
  "cells": [
    {
      "cell_type": "markdown",
      "metadata": {
        "id": "view-in-github",
        "colab_type": "text"
      },
      "source": [
        "<a href=\"https://colab.research.google.com/github/Steve-YJ/data-specialist-from-scratch/blob/main/SQL_Basics_GROUP_BY_Statement.ipynb\" target=\"_parent\"><img src=\"https://colab.research.google.com/assets/colab-badge.svg\" alt=\"Open In Colab\"/></a>"
      ]
    },
    {
      "cell_type": "markdown",
      "metadata": {
        "id": "cdqfk8C_erYn"
      },
      "source": [
        "# SQL GROUP BY Statement\n",
        "* The SQL GROUP BY Statement\n",
        "* GROUP BY Syntax\n",
        "* Demo Database"
      ]
    },
    {
      "cell_type": "markdown",
      "metadata": {
        "id": "6QG51ANMeZ3Q"
      },
      "source": [
        "## What is GROUP BY Statement?\n",
        "The GROUP BY statement groups rows that have the same values into summary rows, like \"find the number of customers in each country\".\n",
        "\n",
        "The GROUP BY statement is often used with aggregate functions (COUNT(), MAX(), MIN(), SUM(), AVG()) to group the result-set by one or more columns."
      ]
    },
    {
      "cell_type": "markdown",
      "metadata": {
        "id": "5kW7OPuLe896"
      },
      "source": [
        "## Demo Database"
      ]
    },
    {
      "cell_type": "markdown",
      "metadata": {
        "id": "DYdqJ-jwfHUa"
      },
      "source": [
        "### Create Database\n",
        "*  reference: [SQL sub-queries.ipynb](https://colab.research.google.com/github/lucasmoratof/sql-projects/blob/master/Introduction_to_SQL_sub_queries.ipynb#scrollTo=_xkGEn95uh6W)\n"
      ]
    },
    {
      "cell_type": "code",
      "metadata": {
        "colab": {
          "base_uri": "https://localhost:8080/"
        },
        "id": "w2LdrDHLfIak",
        "outputId": "72fa6a9b-8f78-425f-d9fc-e0c536a1b675"
      },
      "source": [
        "import sqlite3\n",
        "\n",
        "conn = sqlite3.connect(\"demo.db\")  # # To use the module, you must first create a Connection object that represents the database\n",
        "print(\"Opened database successfully!\")  \n",
        "\n",
        "conn.execute('''\n",
        "CREATE TABLE IF NOT EXISTS demo(\n",
        "    CustomerID integer,\n",
        "    CustomerName text,\n",
        "    ContactName text,\n",
        "    Address text,\n",
        "    City text,\n",
        "    PostalCode integer,\n",
        "    Country text\n",
        ");''')\n",
        "\n",
        "conn.commit() # Save (commit) the changes  // referenced from python docs\n",
        "\n",
        "print(\"Table created successfully\")\n",
        "\n",
        "# conn.close()"
      ],
      "execution_count": 1,
      "outputs": [
        {
          "output_type": "stream",
          "text": [
            "Opened database successfully!\n",
            "Table created successfully\n"
          ],
          "name": "stdout"
        }
      ]
    },
    {
      "cell_type": "code",
      "metadata": {
        "colab": {
          "base_uri": "https://localhost:8080/"
        },
        "id": "uv4oDozfhgDL",
        "outputId": "5d4e376d-b1e1-42dd-9d6e-48897d30a52c"
      },
      "source": [
        "conn.execute(\"SELECT * FROM demo\")"
      ],
      "execution_count": 2,
      "outputs": [
        {
          "output_type": "execute_result",
          "data": {
            "text/plain": [
              "<sqlite3.Cursor at 0x7fe0bd16f030>"
            ]
          },
          "metadata": {
            "tags": []
          },
          "execution_count": 2
        }
      ]
    },
    {
      "cell_type": "code",
      "metadata": {
        "colab": {
          "base_uri": "https://localhost:8080/"
        },
        "id": "SjFxlq4RgQxA",
        "outputId": "83d495a4-9656-4848-9571-b98ad3fda8b5"
      },
      "source": [
        "# INSERT VALUES\n",
        "\n",
        "conn.execute(\"INSERT INTO demo VALUES(1, 'Alfreds Futterkiste', 'Maria Anders', 'Obere Str. 57', 'Berlin', 12209, 'Germany');\")\n",
        "# conn.execute(\"INSERT INTO demo VALUES('');\")\n",
        "# conn.execute(\"INSERT INTO demo VALUES('');\")\n",
        "# conn.execute(\"INSERT INTO demo VALUES('');\")\n",
        "# conn.execute(\"INSERT INTO demo VALUES('');\")\n",
        "# conn.execute(\"INSERT INTO demo VALUES('');\")\n",
        "# conn.execute(\"INSERT INTO demo VALUES('');\")"
      ],
      "execution_count": 3,
      "outputs": [
        {
          "output_type": "execute_result",
          "data": {
            "text/plain": [
              "<sqlite3.Cursor at 0x7fe0bf1a42d0>"
            ]
          },
          "metadata": {
            "tags": []
          },
          "execution_count": 3
        }
      ]
    },
    {
      "cell_type": "code",
      "metadata": {
        "colab": {
          "base_uri": "https://localhost:8080/"
        },
        "id": "QbqDxyf9hC_p",
        "outputId": "ebfdfbe4-ff86-4040-ec06-c07c7f2c8af4"
      },
      "source": [
        "cursor = conn.execute(\"SELECT * FROM demo\")\n",
        "\n",
        "for row in cursor:\n",
        "    print(row)\n",
        "\n",
        "conn.close()"
      ],
      "execution_count": 6,
      "outputs": [
        {
          "output_type": "stream",
          "text": [
            "(1, 'Alfreds Futterkiste', 'Maria Anders', 'Obere Str. 57', 'Berlin', 12209, 'Germany')\n"
          ],
          "name": "stdout"
        }
      ]
    },
    {
      "cell_type": "code",
      "metadata": {
        "id": "xLcjhzdohoOD"
      },
      "source": [
        ""
      ],
      "execution_count": 6,
      "outputs": []
    },
    {
      "cell_type": "code",
      "metadata": {
        "id": "wtUBQMCBhoPS"
      },
      "source": [
        ""
      ],
      "execution_count": 6,
      "outputs": []
    },
    {
      "cell_type": "markdown",
      "metadata": {
        "id": "MjhK0o7choRM"
      },
      "source": [
        "## Examples \n",
        "* Origin Sample Code\n",
        "* from Introduction to SQL sub-queries.ipynb\n",
        "* [SQL sub-queries.ipynb](https://colab.research.google.com/github/lucasmoratof/sql-projects/blob/master/Introduction_to_SQL_sub_queries.ipynb#scrollTo=L9nIsr9Jwuds)"
      ]
    },
    {
      "cell_type": "code",
      "metadata": {
        "colab": {
          "base_uri": "https://localhost:8080/"
        },
        "id": "uA5-YsZ4hoY_",
        "outputId": "7bb247dd-5345-4294-d00e-a3a74382150b"
      },
      "source": [
        "# CREATING THE TABLE\n",
        "import sqlite3\n",
        "\n",
        "conn = sqlite3.connect('test.db'). # To use the module, you must first create a Connection object that represents the database\n",
        "print(\"Opened database successfully\");\n",
        "\n",
        "conn.execute('''\n",
        "CREATE TABLE IF NOT EXISTS team_data(team text, \n",
        "                      country text, \n",
        "                      season integer, \n",
        "                      total_goals integer);''')\n",
        "\n",
        "conn.commit(). # Save (commit) the changes  // referenced from python docs\n",
        "\n",
        "print(\"Table created successfully\");\n",
        "\n",
        "# conn.close()"
      ],
      "execution_count": 10,
      "outputs": [
        {
          "output_type": "stream",
          "text": [
            "Opened database successfully\n",
            "Table created successfully\n"
          ],
          "name": "stdout"
        }
      ]
    },
    {
      "cell_type": "code",
      "metadata": {
        "id": "Bs7sxkHAhpzt"
      },
      "source": [
        "# INSERTING VALUES\n",
        "\n",
        "conn.execute(\"INSERT INTO team_data VALUES('Real Madrid', 'Spain', 2019, 53);\")\n",
        "conn.execute(\"INSERT INTO team_data VALUES('Barcelona', 'Spain', 2019, 47);\")\n",
        "conn.execute(\"INSERT INTO team_data VALUES('Arsenal', 'UK', 2019, 52);\")\n",
        "conn.execute(\"INSERT INTO team_data VALUES('Real Madrid', 'Spain', 2018, 49);\")\n",
        "conn.execute(\"INSERT INTO team_data VALUES('Barcelona', 'Spain', 2018, 45);\")\n",
        "conn.execute(\"INSERT INTO team_data VALUES('Arsenal', 'UK', 2018, 50 );\")\n",
        "\n",
        "conn.commit()"
      ],
      "execution_count": 11,
      "outputs": []
    },
    {
      "cell_type": "code",
      "metadata": {
        "colab": {
          "base_uri": "https://localhost:8080/"
        },
        "id": "DPV3l3-BhqCC",
        "outputId": "0d8d3ff8-9456-4c18-8f87-6409872680a7"
      },
      "source": [
        "# Average goal by team\n",
        "\n",
        "conn = sqlite3.connect('test.db')\n",
        "\n",
        "cursor = conn.execute(''' SELECT team,\n",
        "                            AVG(total_goals) AS avg_goals\n",
        "                          FROM team_data\n",
        "                          GROUP BY team;''')\n",
        "\n",
        "for row in cursor:\n",
        "  print(row)\n",
        "conn.close()"
      ],
      "execution_count": 12,
      "outputs": [
        {
          "output_type": "stream",
          "text": [
            "('Arsenal', 51.0)\n",
            "('Barcelona', 46.0)\n",
            "('Real Madrid', 51.0)\n"
          ],
          "name": "stdout"
        }
      ]
    },
    {
      "cell_type": "code",
      "metadata": {
        "id": "HqKXGKABht7V"
      },
      "source": [
        ""
      ],
      "execution_count": null,
      "outputs": []
    }
  ]
}